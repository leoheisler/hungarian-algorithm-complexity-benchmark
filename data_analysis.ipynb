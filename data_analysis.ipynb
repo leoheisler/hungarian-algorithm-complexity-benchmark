{
 "cells": [
  {
   "cell_type": "code",
   "execution_count": 6,
   "id": "0990a7bd",
   "metadata": {},
   "outputs": [],
   "source": [
    "import pandas as pd\n",
    "import matplotlib.pyplot as plt\n",
    "from sklearn.linear_model import LinearRegression\n",
    "import numpy as np"
   ]
  },
  {
   "cell_type": "code",
   "execution_count": 4,
   "id": "2e996c76",
   "metadata": {},
   "outputs": [],
   "source": [
    "df = pd.read_csv('results/results.csv')"
   ]
  },
  {
   "cell_type": "code",
   "execution_count": null,
   "id": "5ac5c000",
   "metadata": {},
   "outputs": [
    {
     "name": "stdout",
     "output_type": "stream",
     "text": [
      "R² de cada modelo (quanto mais próximo de 1, melhor):\n",
      "\n",
      "O(n³)     : R² = 0.9979\n",
      "O(n²)     : R² = 0.9740\n",
      "O(n log n): R² = 0.9006\n",
      "O(n)      : R² = 0.8857\n"
     ]
    }
   ],
   "source": [
    "\n",
    "import pandas as pd\n",
    "import numpy as np\n",
    "import matplotlib.pyplot as plt\n",
    "from sklearn.linear_model import LinearRegression\n",
    "\n",
    "# Carrega os dados\n",
    "df = pd.read_csv('results/results.csv')\n",
    "df['n'] = df['NUM_VERTEX'] / 2\n",
    "y = df['TIME'].values\n",
    "\n",
    "# Entrada para o modelo cúbico\n",
    "n = df['n'].values.reshape(-1, 1)\n",
    "n3 = (df['n'] ** 3).values.reshape(-1, 1)\n",
    "\n",
    "# Treina a regressão cúbica\n",
    "modelo = LinearRegression()\n",
    "modelo.fit(n3, y)\n",
    "y_pred = modelo.predict(n3)\n",
    "\n",
    "# Plot do tempo real e estimado\n",
    "plt.figure(figsize=(10, 6))\n",
    "plt.scatter(df['n'], y, label='Tempo real', color='blue', marker='o')\n",
    "plt.plot(df['n'], y_pred, label='Regressão (O(n³))', color='red', linewidth=2)\n",
    "\n",
    "# Títulos e legendas\n",
    "plt.xlabel('Tamanho da Partição (NUM_VERTEX / 2)')\n",
    "plt.ylabel('Tempo (segundos)')\n",
    "plt.title('Tempo Real vs. Ajuste Cúbico (O(n³))')\n",
    "plt.grid(True)\n",
    "plt.legend()\n",
    "plt.tight_layout()\n",
    "plt.show()\n",
    "\n"
   ]
  }
 ],
 "metadata": {
  "kernelspec": {
   "display_name": "Python 3",
   "language": "python",
   "name": "python3"
  },
  "language_info": {
   "codemirror_mode": {
    "name": "ipython",
    "version": 3
   },
   "file_extension": ".py",
   "mimetype": "text/x-python",
   "name": "python",
   "nbconvert_exporter": "python",
   "pygments_lexer": "ipython3",
   "version": "3.10.12"
  }
 },
 "nbformat": 4,
 "nbformat_minor": 5
}
